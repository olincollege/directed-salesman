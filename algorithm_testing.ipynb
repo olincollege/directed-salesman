{
 "cells": [
  {
   "cell_type": "code",
   "execution_count": 1,
   "metadata": {},
   "outputs": [],
   "source": [
    "import brute_force\n",
    "import utils\n",
    "import alg_test\n",
    "import math\n",
    "import networkx as nx"
   ]
  },
  {
   "cell_type": "code",
   "execution_count": 3,
   "metadata": {},
   "outputs": [
    {
     "name": "stdout",
     "output_type": "stream",
     "text": [
      "circle nine time: 1.2083587646484375\n",
      "random_nine_time: 1.2193899154663086\n",
      "rectangle_three_three_time: 1.2116658687591553\n"
     ]
    }
   ],
   "source": [
    "random = utils.random_graph(10)\n",
    "\n",
    "random_nine_time = alg_test.run_on_determined_graph_no_correctness(random, brute_force.brute_force)\n",
    "circle_nine_time = alg_test.run_on_generated_graph_no_correctness(utils.circle_graph, brute_force.brute_force, 10)\n",
    "rectangle_three_three_time = alg_test.run_on_generated_graph_no_correctness(utils.rectangle_graph, brute_force.brute_force, (2,5))\n",
    "\n",
    "print(f\"circle nine time: {circle_nine_time}\")\n",
    "print(f\"random_nine_time: {random_nine_time}\")\n",
    "print(f\"rectangle_three_three_time: {rectangle_three_three_time}\")\n"
   ]
  },
  {
   "cell_type": "code",
   "execution_count": 3,
   "metadata": {},
   "outputs": [
    {
     "name": "stdout",
     "output_type": "stream",
     "text": [
      "4.0\n",
      "4\n"
     ]
    },
    {
     "data": {
      "image/png": "[encoded data removed]",
      "text/plain": [
       "<Figure size 640x480 with 1 Axes>"
      ]
     },
     "metadata": {},
     "output_type": "display_data"
    }
   ],
   "source": [
    "#print(alg_test.get_min_length_of_circle(3))\n",
    "\n",
    "rect_two_two = utils.rectangle_graph((2,3))\n",
    "nx.draw(rect_two_two, nx.get_node_attributes(rect_two_two, 'pos'))\n",
    "\n",
    "time, corr = alg_test.run_on_determined_graph(rect_two_two, brute_force.brute_force, 1)\n",
    "print(1/corr)\n",
    "print(alg_test.get_min_length_of_grid(2,3))"
   ]
  }
 ],
 "metadata": {
  "kernelspec": {
   "display_name": "Python 3.9.6 64-bit",
   "language": "python",
   "name": "python3"
  },
  "language_info": {
   "codemirror_mode": {
    "name": "ipython",
    "version": 3
   },
   "file_extension": ".py",
   "mimetype": "text/x-python",
   "name": "python",
   "nbconvert_exporter": "python",
   "pygments_lexer": "ipython3",
   "version": "3.9.6"
  },
  "orig_nbformat": 4,
  "vscode": {
   "interpreter": {
    "hash": "31f2aee4e71d21fbe5cf8b01ff0e069b9275f58929596ceb00d14d90e3e16cd6"
   }
  }
 },
 "nbformat": 4,
 "nbformat_minor": 2
}
