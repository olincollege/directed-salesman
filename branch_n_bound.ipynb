{
 "cells": [
  {
   "cell_type": "code",
   "execution_count": 1,
   "metadata": {},
   "outputs": [],
   "source": [
    "import utils\n",
    "import networkx as nx\n",
    "import numpy as np\n",
    "import branch_helpers as helpers"
   ]
  },
  {
   "cell_type": "code",
   "execution_count": 2,
   "metadata": {},
   "outputs": [
    {
     "name": "stdout",
     "output_type": "stream",
     "text": [
      "[[0.         0.38747599 0.30241003 0.66738619 0.39737557]\n",
      " [0.38747599 0.         0.28826991 0.28527361 0.67759525]\n",
      " [0.30241003 0.28826991 0.         0.54554554 0.69525316]\n",
      " [0.66738619 0.28527361 0.54554554 0.         0.90114226]\n",
      " [0.39737557 0.67759525 0.69525316 0.90114226 0.        ]]\n"
     ]
    }
   ],
   "source": [
    "rando = utils.random_graph(5)\n",
    "rando_mat = nx.to_numpy_matrix(rando)\n",
    "print(rando_mat)\n"
   ]
  },
  {
   "cell_type": "code",
   "execution_count": 3,
   "metadata": {},
   "outputs": [
    {
     "name": "stdout",
     "output_type": "stream",
     "text": [
      "1.6535682627393506\n",
      "[[       inf 0.08506596 0.         0.36497615 0.        ]\n",
      " [0.10220238        inf 0.0029963  0.         0.2973561 ]\n",
      " [0.01414012 0.                inf 0.25727563 0.31201771]\n",
      " [0.38211258 0.         0.26027193        inf 0.52090311]\n",
      " [0.         0.28021968 0.29787759 0.50376669        inf]]\n"
     ]
    }
   ],
   "source": [
    "#print(rando_mat)\n",
    "#nx.draw(rando)\n",
    "infinitized_matrix = helpers.make_diag_infinite(rando_mat)\n",
    "reduced_matrix, cost = helpers.reduce_matrix(infinitized_matrix)\n",
    "mat = np.array([[0.0, 20, 30, 10, 11], [15, 0.0, 16, 4, 2], [3, 5, 0.0, 2, 4], [19, 6, 18, 0.0, 3], [16, 4, 7, 16, 0.0]])\n",
    "#infin = helpers.make_diag_infinite(mat)\n",
    "#red2, cost2 = helpers.reduce_matrix(infin)\n",
    "\n",
    "#print(cost2)\n",
    "#print(red2)\n",
    "\n",
    "print(cost)\n",
    "print(reduced_matrix)\n",
    "\n",
    "\n"
   ]
  },
  {
   "cell_type": "code",
   "execution_count": 4,
   "metadata": {},
   "outputs": [
    {
     "name": "stdout",
     "output_type": "stream",
     "text": [
      "parent: None\n",
      "children: []\n",
      "graph_node: 0\n",
      "adj mat: \n",
      "[[       inf 0.         0.11813327 0.         0.16824551]\n",
      " [0.04148026        inf 0.         0.14364614 0.        ]\n",
      " [0.15961352 0.                inf 0.04148026 0.11856956]\n",
      " [0.         0.10216589 0.                inf 0.30051996]\n",
      " [0.20972577 0.         0.11856956 0.34200022        inf]]\n",
      "cost: 1.7773885556425986\n",
      "remaining graph nodes: [1, 2, 3, 4]\n"
     ]
    }
   ],
   "source": [
    "graph_size = 5\n",
    "rando = utils.random_graph(graph_size)\n",
    "rando_mat = nx.to_numpy_matrix(rando)\n",
    "infinitized_matrix = helpers.make_diag_infinite(rando_mat)\n",
    "reduced_matrix, cost = helpers.reduce_matrix(infinitized_matrix)\n",
    "\n",
    "tree = helpers.Tree(None, list(range(graph_size)))\n",
    "zero_node = helpers.Path_node(None, [], 0, reduced_matrix, tree, cost)\n",
    "print(zero_node)\n",
    "\n"
   ]
  },
  {
   "cell_type": "code",
   "execution_count": null,
   "metadata": {},
   "outputs": [],
   "source": []
  }
 ],
 "metadata": {
  "kernelspec": {
   "display_name": "Python 3.9.6 64-bit",
   "language": "python",
   "name": "python3"
  },
  "language_info": {
   "codemirror_mode": {
    "name": "ipython",
    "version": 3
   },
   "file_extension": ".py",
   "mimetype": "text/x-python",
   "name": "python",
   "nbconvert_exporter": "python",
   "pygments_lexer": "ipython3",
   "version": "3.9.6"
  },
  "orig_nbformat": 4,
  "vscode": {
   "interpreter": {
    "hash": "31f2aee4e71d21fbe5cf8b01ff0e069b9275f58929596ceb00d14d90e3e16cd6"
   }
  }
 },
 "nbformat": 4,
 "nbformat_minor": 2
}
