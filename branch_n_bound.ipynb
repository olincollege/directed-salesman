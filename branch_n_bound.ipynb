{
 "cells": [
  {
   "cell_type": "code",
   "execution_count": 5,
   "metadata": {},
   "outputs": [
    {
     "name": "stdout",
     "output_type": "stream",
     "text": [
      "3\n",
      "[1, 2]\n"
     ]
    }
   ],
   "source": [
    "l = [1,2,3]\n",
    "print(len(l))\n",
    "print(l[:2])"
   ]
  },
  {
   "cell_type": "code",
   "execution_count": 1,
   "metadata": {},
   "outputs": [
    {
     "name": "stdout",
     "output_type": "stream",
     "text": [
      "3.5842592249241276\n",
      "[0, 2, 7, 4, 8, 5, 9, 3, 1, 6, 0]\n",
      "3.0511722623134907\n",
      "[0, 8, 5, 6, 1, 3, 9, 2, 7, 4, 0]\n"
     ]
    }
   ],
   "source": [
    "import utils\n",
    "import networkx as nx\n",
    "import numpy as np\n",
    "import branch_helpers as helpers\n",
    "import brute_force\n",
    "import branch_and_bound\n",
    "size = 10\n",
    "rando = utils.random_graph(size)\n",
    "cost, path = branch_and_bound.branch_and_bound(rando)\n",
    "true_cost, true_path = brute_force.brute_force(rando)\n",
    "print(cost)\n",
    "print(path)\n",
    "print(true_cost)\n",
    "print(true_path)"
   ]
  },
  {
   "cell_type": "code",
   "execution_count": null,
   "metadata": {},
   "outputs": [],
   "source": [
    "rando = utils.random_graph(size)\n",
    "cost, path = branch_and_bound.branch_and_bound(rando)\n",
    "true_cost, true_path = brute_force.brute_force(rando)\n",
    "print(cost)\n",
    "print(path)\n",
    "print(true_cost)\n",
    "print(true_path)"
   ]
  },
  {
   "cell_type": "code",
   "execution_count": 3,
   "metadata": {},
   "outputs": [
    {
     "name": "stdout",
     "output_type": "stream",
     "text": [
      "6.283019941676293\n"
     ]
    }
   ],
   "source": [
    "size = 250\n",
    "circ = utils.circle_graph(size)\n",
    "root = helpers.Root_Node(circ)\n",
    "#print(root)\n",
    "#print(\"\\n\")\n",
    "\n",
    "\"\"\"for x in root.remaining_graph_nodes:\n",
    "    child = root.branch(x)\n",
    "    print(child)\n",
    "    print(\"\\n\")\"\"\"\n",
    "\n",
    "current_level_nodes = [root]\n",
    "while True:\n",
    "    #print(current_level_nodes[0])\n",
    "    if len(current_level_nodes) == 0:\n",
    "        break\n",
    "    #print(\"\\n\\n\\niter\")\n",
    "    #for item in current_level_nodes:\n",
    "        #print(item)\n",
    "    #print(\"done printing current level\")\n",
    "    \n",
    "    curr_min_cost = np.inf\n",
    "    curr_min_nodes = []\n",
    "    for node in current_level_nodes:\n",
    "        if node.remaining_graph_nodes == []:\n",
    "            break\n",
    "        for x in node.remaining_graph_nodes:\n",
    "            child = node.branch(x)\n",
    "            if child.lower_bound < curr_min_cost:\n",
    "                curr_min_cost = child.lower_bound\n",
    "                curr_min_nodes = [child]\n",
    "            elif child.lower_bound == curr_min_cost:\n",
    "                curr_min_nodes.append(child)\n",
    "            else:\n",
    "                pass\n",
    "    current_level_nodes = curr_min_nodes\n",
    "#nx.draw(circ, nx.get_node_attributes(circ, 'pos'))\n",
    "#print(node.elapsed)\n",
    "print(node.lower_bound)\n",
    "\n",
    "#import copied_branch\n",
    "#rando = utils.random_graph(5)\n"
   ]
  },
  {
   "cell_type": "code",
   "execution_count": null,
   "metadata": {},
   "outputs": [],
   "source": [
    "\n",
    "\n",
    "\n"
   ]
  },
  {
   "cell_type": "code",
   "execution_count": null,
   "metadata": {},
   "outputs": [],
   "source": [
    "#graph = utils.circle_graph(20)\n",
    "#nx.draw(graph, nx.get_node_attributes(graph, 'pos'))\n",
    "\n",
    "rect = utils.rectangle_graph(3,3)\n",
    "nx.draw(rect, nx.get_node_attributes(rect, 'pos'))\n",
    "print(rect.nodes)\n",
    "print(rect.edges)"
   ]
  },
  {
   "cell_type": "code",
   "execution_count": null,
   "metadata": {},
   "outputs": [],
   "source": [
    "#print(rando_mat)\n",
    "#nx.draw(rando)\n",
    "infinitized_matrix = helpers.make_diag_infinite(rando_mat)\n",
    "reduced_matrix, cost = helpers.reduce_matrix(infinitized_matrix)\n",
    "mat = np.array([[0.0, 20, 30, 10, 11], [15, 0.0, 16, 4, 2], [3, 5, 0.0, 2, 4], [19, 6, 18, 0.0, 3], [16, 4, 7, 16, 0.0]])\n",
    "#infin = helpers.make_diag_infinite(mat)\n",
    "#red2, cost2 = helpers.reduce_matrix(infin)\n",
    "\n",
    "#print(cost2)\n",
    "#print(red2)\n",
    "\n",
    "print(cost)\n",
    "print(reduced_matrix)\n",
    "\n",
    "\n"
   ]
  },
  {
   "cell_type": "code",
   "execution_count": null,
   "metadata": {},
   "outputs": [],
   "source": [
    "graph_size = 5\n",
    "rando = utils.random_graph(graph_size)\n",
    "rando_mat = nx.to_numpy_matrix(rando)\n",
    "infinitized_matrix = helpers.make_diag_infinite(rando_mat)\n",
    "reduced_matrix, cost = helpers.reduce_matrix(infinitized_matrix)\n",
    "\n",
    "tree = helpers.Tree(None, list(range(graph_size)))\n",
    "zero_node = helpers.Path_node(None, [], 0, reduced_matrix, tree, cost)\n",
    "print(zero_node)\n",
    "\n"
   ]
  },
  {
   "cell_type": "code",
   "execution_count": null,
   "metadata": {},
   "outputs": [],
   "source": []
  }
 ],
 "metadata": {
  "kernelspec": {
   "display_name": "Python 3.9.6 64-bit",
   "language": "python",
   "name": "python3"
  },
  "language_info": {
   "codemirror_mode": {
    "name": "ipython",
    "version": 3
   },
   "file_extension": ".py",
   "mimetype": "text/x-python",
   "name": "python",
   "nbconvert_exporter": "python",
   "pygments_lexer": "ipython3",
   "version": "3.9.6"
  },
  "orig_nbformat": 4,
  "vscode": {
   "interpreter": {
    "hash": "31f2aee4e71d21fbe5cf8b01ff0e069b9275f58929596ceb00d14d90e3e16cd6"
   }
  }
 },
 "nbformat": 4,
 "nbformat_minor": 2
}
