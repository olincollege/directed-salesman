{
 "cells": [
  {
   "cell_type": "markdown",
   "id": "084a8014",
   "metadata": {},
   "source": [
    "# Dynamic Programming"
   ]
  },
  {
   "cell_type": "code",
   "execution_count": 1,
   "id": "466ea963",
   "metadata": {},
   "outputs": [],
   "source": [
    "import pandas as pd\n",
    "import numpy as np\n",
    "import matplotlib.pyplot as plt\n",
    "import networkx as nx\n",
    "import random\n",
    "from utils import random_graph, create_adjacency_matrix\n",
    "import math"
   ]
  },
  {
   "cell_type": "code",
   "execution_count": 2,
   "id": "ad565a50",
   "metadata": {},
   "outputs": [
    {
     "name": "stdout",
     "output_type": "stream",
     "text": [
      "[[0.0, 0.2120870340493113, 0.6576682794610186, 0.9244080444119331, 0.12853301132248018, 0.4443550309435013, 0.6092958826559515, 0.7431317214443087, 0.4293598295670896, 0.4480115970140055], [0.2120870340493113, 0.0, 0.7065660886252252, 1.0864925318761218, 0.08671300752384518, 0.6562980294256855, 0.7013540548247943, 0.8585541374022173, 0.22946887665963753, 0.6516458235380864], [0.6576682794610186, 0.7065660886252252, 0.0, 0.6112312741663286, 0.6621695792020695, 0.7814069168624441, 0.14668402871375819, 0.2787598704387091, 0.7230889685906086, 0.8875616184380217], [0.9244080444119331, 1.0864925318761218, 0.6112312741663286, 0.0, 1.0081734529963984, 0.6997078273697546, 0.4879380474695943, 0.3332339687989218, 1.2067364948752664, 0.8311795318010602], [0.12853301132248018, 0.08671300752384518, 0.6621695792020695, 1.0081734529963984, 0.0, 0.5724308500979127, 0.6420177560553257, 0.7929187962750398, 0.3018285666591801, 0.5744960268953639], [0.4443550309435013, 0.6562980294256855, 0.7814069168624441, 0.6997078273697546, 0.5724308500979127, 0.0, 0.6583968502995367, 0.6952717236645045, 0.8693326201461582, 0.13273736086329999], [0.6092958826559515, 0.7013540548247943, 0.14668402871375819, 0.4879380474695943, 0.6420177560553257, 0.6583968502995367, 0.0, 0.1728168310974652, 0.7633834160133667, 0.7727415774867503], [0.7431317214443087, 0.8585541374022173, 0.2787598704387091, 0.3332339687989218, 0.7929187962750398, 0.6952717236645045, 0.1728168310974652, 0.0, 0.9340720547981859, 0.8219119435495402], [0.4293598295670896, 0.22946887665963753, 0.7230889685906086, 1.2067364948752664, 0.3018285666591801, 0.8693326201461582, 0.7633834160133667, 0.9340720547981859, 0.0, 0.8763174200942183], [0.4480115970140055, 0.6516458235380864, 0.8875616184380217, 0.8311795318010602, 0.5744960268953639, 0.13273736086329999, 0.7727415774867503, 0.8219119435495402, 0.8763174200942183, 0.0]]\n"
     ]
    },
    {
     "name": "stderr",
     "output_type": "stream",
     "text": [
      "/Users/danielpark/Documents/directed-salesman/utils.py:123: FutureWarning: adjacency_matrix will return a scipy.sparse array instead of a matrix in Networkx 3.0.\n",
      "  return nx.adjacency_matrix(graph)\n"
     ]
    }
   ],
   "source": [
    "# If AttributeError: module 'scipy.sparse' has no attribute 'coo_array'\n",
    "# pip install --upgrade scipy networkx\n",
    "\n",
    "# Number of nodes in graph\n",
    "n = 10\n",
    "\n",
    "# Create a random graph alongside adjacency matrix\n",
    "graph = random_graph(n)\n",
    "\n",
    "adj_graph = create_adjacency_matrix(graph)\n",
    "dist = adj_graph.todense().tolist()\n",
    "print(dist)"
   ]
  },
  {
   "cell_type": "code",
   "execution_count": 3,
   "id": "c50e158f",
   "metadata": {},
   "outputs": [],
   "source": [
    "def dp_runner(i, bitmask):\n",
    "    \"\"\"\n",
    "    Traverses the graph and finds the \n",
    "    \n",
    "    :graph: graph represented as a adjacency matrix\n",
    "    :i: ith node\n",
    "    :bitmask: represents the remaining nodes in the subset (TODO: bits are faster to operate)\n",
    "    \"\"\"\n",
    "    \n",
    "    # Memoize for Top-Down Recursion\n",
    "    memo = [[-1]*(1 << (n)) for _ in range(n)]\n",
    "    \n",
    "    # Base case:\n",
    "    # - if only ith bit and 1st bit is set in our bitmask,\n",
    "    # - it implies we have visited all other nodes already\n",
    "    if bitmask == ((1 << i) | 3):\n",
    "        return dist[1][i]\n",
    "  \n",
    "    # memoization to store visited distances\n",
    "    if memo[i][bitmask] != -1:\n",
    "        return memo[i][bitmask]\n",
    "  \n",
    "    res = 10**9  # result of this sub-problem\n",
    "  \n",
    "    # Travel to all nodes j in mask and end the path at ith node\n",
    "    for j in range(1, n):\n",
    "        if (bitmask & (1 << j)) != 0 and j != i and j != 1:\n",
    "            res = min(res, dp_runner(j, bitmask & (~(1 << i))) + dist[j][i])\n",
    "\n",
    "    memo[i][bitmask] = res  # storing the minimum value\n",
    "    return res"
   ]
  },
  {
   "cell_type": "code",
   "execution_count": 4,
   "id": "654b1e69",
   "metadata": {},
   "outputs": [
    {
     "name": "stdout",
     "output_type": "stream",
     "text": [
      "The cost of most efficient path = 3.0989468965126545\n"
     ]
    }
   ],
   "source": [
    "# Driver program\n",
    "cost = 10**9\n",
    "for i in range(1, n):\n",
    "    # try to go from node 1 visiting all nodes in between to i\n",
    "    # then return from i taking the shortest route to 1\n",
    "    cost = min(cost, dp_runner(i, (1 << n)-1) + dist[i][1])\n",
    "\n",
    "print(\"The cost of most efficient path = \" + str(cost))"
   ]
  },
  {
   "cell_type": "markdown",
   "id": "eed063ad",
   "metadata": {},
   "source": [
    "## Sources\n",
    "\n",
    "1. https://www.youtube.com/watch?v=Q4zHb-Swzro&t=118s&ab_channel=AbdulBari\n",
    "2. http://www.lsi.upc.edu/~mjserna/docencia/algofib/P07/dynprog.pdf\n",
    "3. https://medium.com/basecs/speeding-up-the-traveling-salesman-using-dynamic-programming-b76d7552e8dd\n",
    "4. https://networkx.org/documentation/stable/reference/generated/networkx.linalg.graphmatrix.adjacency_matrix.html\n",
    "5. https://people.eecs.berkeley.edu/~vazirani/algorithms/chap6.pdf"
   ]
  },
  {
   "cell_type": "code",
   "execution_count": null,
   "id": "0a534600",
   "metadata": {},
   "outputs": [],
   "source": []
  }
 ],
 "metadata": {
  "kernelspec": {
   "display_name": "Python 3 (ipykernel)",
   "language": "python",
   "name": "python3"
  },
  "language_info": {
   "codemirror_mode": {
    "name": "ipython",
    "version": 3
   },
   "file_extension": ".py",
   "mimetype": "text/x-python",
   "name": "python",
   "nbconvert_exporter": "python",
   "pygments_lexer": "ipython3",
   "version": "3.9.12"
  }
 },
 "nbformat": 4,
 "nbformat_minor": 5
}
