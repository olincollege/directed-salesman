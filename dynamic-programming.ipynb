{
 "cells": [
  {
   "cell_type": "markdown",
   "id": "e7094e70",
   "metadata": {},
   "source": [
    "# Dynamic Programming"
   ]
  },
  {
   "cell_type": "code",
   "execution_count": 1,
   "id": "0225cb61",
   "metadata": {},
   "outputs": [],
   "source": [
    "import pandas as pd\n",
    "import numpy as np\n",
    "import matplotlib.pyplot as plt\n",
    "import networkx as nx\n",
    "import random\n",
    "from utils import random_graph\n",
    "import math"
   ]
  },
  {
   "cell_type": "code",
   "execution_count": 2,
   "id": "c8b536da",
   "metadata": {},
   "outputs": [],
   "source": [
    "\"\"\"\n",
    "Function for creating adjacency matrix\n",
    "\"\"\"\n",
    "def create_adjacency_matrix(graph: nx.Graph):\n",
    "    return nx.adjacency_matrix(graph)"
   ]
  },
  {
   "cell_type": "code",
   "execution_count": 3,
   "id": "35f1ebfe",
   "metadata": {},
   "outputs": [
    {
     "ename": "NameError",
     "evalue": "name 'm' is not defined",
     "output_type": "error",
     "traceback": [
      "\u001b[0;31m---------------------------------------------------------------------------\u001b[0m",
      "\u001b[0;31mNameError\u001b[0m                                 Traceback (most recent call last)",
      "Input \u001b[0;32mIn [3]\u001b[0m, in \u001b[0;36m<cell line: 6>\u001b[0;34m()\u001b[0m\n\u001b[1;32m      1\u001b[0m \u001b[38;5;66;03m# If AttributeError: module 'scipy.sparse' has no attribute 'coo_array'\u001b[39;00m\n\u001b[1;32m      2\u001b[0m \u001b[38;5;66;03m# pip install --upgrade scipy networkx\u001b[39;00m\n\u001b[1;32m      3\u001b[0m \n\u001b[1;32m      4\u001b[0m \u001b[38;5;66;03m# Number of nodes in graph\u001b[39;00m\n\u001b[1;32m      5\u001b[0m n \u001b[38;5;241m=\u001b[39m \u001b[38;5;241m4\u001b[39m\n\u001b[0;32m----> 6\u001b[0m n \u001b[38;5;241m=\u001b[39m \u001b[43mm\u001b[49m \u001b[38;5;241m-\u001b[39m \u001b[38;5;241m1\u001b[39m\n\u001b[1;32m      8\u001b[0m \u001b[38;5;66;03m# Create a random graph alongside adjacency matrix\u001b[39;00m\n\u001b[1;32m      9\u001b[0m graph \u001b[38;5;241m=\u001b[39m random_graph(m)\n",
      "\u001b[0;31mNameError\u001b[0m: name 'm' is not defined"
     ]
    }
   ],
   "source": [
    "# If AttributeError: module 'scipy.sparse' has no attribute 'coo_array'\n",
    "# pip install --upgrade scipy networkx\n",
    "\n",
    "# Number of nodes in graph\n",
    "n = 4\n",
    "n = m - 1\n",
    "\n",
    "# Create a random graph alongside adjacency matrix\n",
    "graph = random_graph(m)\n",
    "adj_graph = create_adjacency_matrix(graph)\n",
    "dist = adj_graph.todense().tolist()\n",
    "print(dist)"
   ]
  },
  {
   "cell_type": "code",
   "execution_count": null,
   "id": "7d7e6d33",
   "metadata": {},
   "outputs": [],
   "source": [
    "# Initial Variables\n",
    "\n",
    "# memoization for top down recursion\n",
    "memo = [[-1]*(1 << (n+1)) for _ in range(n+1)]"
   ]
  },
  {
   "cell_type": "code",
   "execution_count": null,
   "id": "03ea657d",
   "metadata": {},
   "outputs": [],
   "source": [
    "\"\"\"\n",
    "Dynamic Programming Solution\n",
    "\n",
    "Improves on Brute Force Solution\n",
    "\"\"\"\n",
    "def fun(i, mask):\n",
    "    # base case\n",
    "    # if only ith bit and 1st bit is set in our mask,\n",
    "    # it implies we have visited all other nodes already\n",
    "    if mask == ((1 << i) | 3):\n",
    "        return dist[1][i]\n",
    "  \n",
    "    # memoization\n",
    "    if memo[i][mask] != -1:\n",
    "        return memo[i][mask]\n",
    "  \n",
    "    res = 10**9  # result of this sub-problem\n",
    "  \n",
    "    # we have to travel all nodes j in mask and end the path at ith node\n",
    "    # so for every node j in mask, recursively calculate cost of \n",
    "    # travelling all nodes in mask\n",
    "    # except i and then travel back from node j to node i taking \n",
    "    # the shortest path take the minimum of all possible j nodes\n",
    "    for j in range(1, n+1):\n",
    "        if (mask & (1 << j)) != 0 and j != i and j != 1:\n",
    "            res = min(res, fun(j, mask & (~(1 << i))) + dist[j][i])\n",
    "    memo[i][mask] = res  # storing the minimum value\n",
    "    return res"
   ]
  },
  {
   "cell_type": "code",
   "execution_count": null,
   "id": "c9dd5b43",
   "metadata": {},
   "outputs": [],
   "source": [
    "# Driver program to test above logic\n",
    "ans = 10**9\n",
    "for i in range(1, n+1):\n",
    "    # try to go from node 1 visiting all nodes in between to i\n",
    "    # then return from i taking the shortest route to 1\n",
    "    ans = min(ans, fun(i, (1 << (n+1))-1) + dist[i][1])\n",
    "\n",
    "print(\"The cost of most efficient tour = \" + str(ans))"
   ]
  },
  {
   "cell_type": "code",
   "execution_count": null,
   "id": "768b5521",
   "metadata": {},
   "outputs": [],
   "source": []
  }
 ],
 "metadata": {
  "kernelspec": {
   "display_name": "Python 3 (ipykernel)",
   "language": "python",
   "name": "python3"
  },
  "language_info": {
   "codemirror_mode": {
    "name": "ipython",
    "version": 3
   },
   "file_extension": ".py",
   "mimetype": "text/x-python",
   "name": "python",
   "nbconvert_exporter": "python",
   "pygments_lexer": "ipython3",
   "version": "3.9.12"
  }
 },
 "nbformat": 4,
 "nbformat_minor": 5
}
