{
 "cells": [
  {
   "cell_type": "markdown",
   "id": "084a8014",
   "metadata": {},
   "source": [
    "# Dynamic Programming"
   ]
  },
  {
   "cell_type": "code",
   "execution_count": 1,
   "id": "466ea963",
   "metadata": {},
   "outputs": [],
   "source": [
    "import networkx as nx\n",
    "import random\n",
    "from utils import random_graph, create_adjacency_matrix\n",
    "import math\n",
    "from dynamic_programming import dp"
   ]
  },
  {
   "cell_type": "code",
   "execution_count": 2,
   "id": "ad565a50",
   "metadata": {},
   "outputs": [
    {
     "name": "stderr",
     "output_type": "stream",
     "text": [
      "/Users/danielpark/Documents/directed-salesman/utils.py:219: FutureWarning: adjacency_matrix will return a scipy.sparse array instead of a matrix in Networkx 3.0.\n",
      "  return nx.adjacency_matrix(graph)\n"
     ]
    },
    {
     "name": "stdout",
     "output_type": "stream",
     "text": [
      "[[0.0, 1.0670323240045831, 0.6918561998597937, 0.6947032376438091], [0.42444518186052793, 0.0, 0.8026570098770023, 0.7839175400956016], [0.6943479235930435, 0.3881088581593256, 0.0, 0.018887388358884306], [0.7262782802622666, 0.3302100948719308, 0.19918838937192362, 0.0]]\n"
     ]
    }
   ],
   "source": [
    "# If AttributeError: module 'scipy.sparse' has no attribute 'coo_array'\n",
    "# pip install --upgrade scipy networkx\n",
    "\n",
    "# Number of nodes in graph (User Input)\n",
    "n = 4\n",
    "\n",
    "def create_graph(n, is_directed = True, is_complete = True):\n",
    "    \"\"\"\n",
    "    Creates a directed and/or completed graph with n nodes\n",
    "    \n",
    "    :n: number of nodes in the graph\n",
    "    :is_directed: is graph directed - default: True\n",
    "    :is_complete: is graph complete - default: True\n",
    "    \n",
    "    :returns (default: a directed complet) nx.graph\n",
    "    \"\"\"\n",
    "    if is_directed:\n",
    "        graph = random_graph(n, True)\n",
    "    else:\n",
    "        graph = random_graph(n)\n",
    "    if not is_complete:\n",
    "        for i in range(0, math.floor(n / 2)):\n",
    "            edges_to_remove = random.sample(range(0,n-1), 2)\n",
    "            graph.remove_edge(edges_to_remove[0], edges_to_remove[1])\n",
    "    return graph\n",
    "\n",
    "created_graph = create_graph(n)\n",
    "adj_graph = create_adjacency_matrix(created_graph)\n",
    "new_graph = adj_graph.todense().tolist()\n",
    "print(new_graph)"
   ]
  },
  {
   "cell_type": "code",
   "execution_count": 3,
   "id": "c50e158f",
   "metadata": {},
   "outputs": [],
   "source": [
    "def dp_runner(i, bitmask, distance_matrix):\n",
    "    \"\"\"\n",
    "    Traverses the graph and finds the shortest Hamiltonian path on a graph \n",
    "    using dynamic programming by caching inner paths to find most optimal path\n",
    "\n",
    "    :i: ith node\n",
    "    :bitmask: represents the remaining nodes in the subset (TODO: bits are faster to operate)\n",
    "\n",
    "    :returns: cost of the most efficient path\n",
    "    \"\"\"\n",
    "    cache = [[-1]*(1 << (n)) for _ in range(n)]\n",
    "    \n",
    "    # Base case: \n",
    "    # if only ith bit and 1st bit is set in our bitmask\n",
    "    # we have visited all other nodes already\n",
    "    if bitmask == ((1 << i) | 3):\n",
    "        return distance_matrix[1][i]\n",
    "  \n",
    "    # Memoize visited distances\n",
    "    if cache[i][bitmask] != -1:\n",
    "        return cache[i][bitmask]\n",
    "    \n",
    "    # Result of the sub-problem\n",
    "    result = 10**9\n",
    "  \n",
    "    # Travel to all nodes j and end the path at ith node\n",
    "    for j in range(1, n):\n",
    "        if (bitmask & (1 << j)) != 0 and j != i and j != 1:\n",
    "            result = min(result, dp_runner(j, bitmask & (~(1 << i)), distance_matrix) + distance_matrix[j][i])\n",
    "    \n",
    "    # Store minimum value\n",
    "    cache[i][bitmask] = result\n",
    "    return result"
   ]
  },
  {
   "cell_type": "code",
   "execution_count": 4,
   "id": "654b1e69",
   "metadata": {},
   "outputs": [
    {
     "name": "stdout",
     "output_type": "stream",
     "text": [
      "The solution path is [0.0, 0.8026570098770023, 0.7839175400956016]\n",
      "The cost of most efficient path is 1.1517544931078174\n"
     ]
    },
    {
     "data": {
      "image/png": "[encoded data removed]",
      "text/plain": [
       "<Figure size 432x288 with 1 Axes>"
      ]
     },
     "metadata": {},
     "output_type": "display_data"
    }
   ],
   "source": [
    "# Driver program\n",
    "cost = 10**9\n",
    "solution_path = []\n",
    "\n",
    "# Go from node 1 visiting all nodes in between to i\n",
    "# Return to i when complete\n",
    "for i in range(1, n):\n",
    "    cost = min(cost, dp_runner(i, (1 << n)-1, new_graph) + new_graph[i][1])\n",
    "    solution_path.append(new_graph[1][i])\n",
    "\n",
    "print(f\"The solution path is {solution_path}\")\n",
    "print(f\"The cost of most efficient path is {cost}\")\n",
    "nx.draw_circular(created_graph)"
   ]
  },
  {
   "cell_type": "code",
   "execution_count": 5,
   "id": "e41adc4d",
   "metadata": {},
   "outputs": [
    {
     "name": "stdout",
     "output_type": "stream",
     "text": [
      "(1.1517544931078174, [0.0, 0.8026570098770023, 0.7839175400956016])\n"
     ]
    },
    {
     "name": "stderr",
     "output_type": "stream",
     "text": [
      "/Users/danielpark/Documents/directed-salesman/utils.py:219: FutureWarning: adjacency_matrix will return a scipy.sparse array instead of a matrix in Networkx 3.0.\n",
      "  return nx.adjacency_matrix(graph)\n"
     ]
    }
   ],
   "source": [
    "# Test dynamic_programming.py\n",
    "print(dp(created_graph))"
   ]
  },
  {
   "cell_type": "markdown",
   "id": "eed063ad",
   "metadata": {},
   "source": [
    "## Sources\n",
    "\n",
    "1. https://www.youtube.com/watch?v=Q4zHb-Swzro&t=118s&ab_channel=AbdulBari\n",
    "2. http://www.lsi.upc.edu/~mjserna/docencia/algofib/P07/dynprog.pdf\n",
    "3. https://medium.com/basecs/speeding-up-the-traveling-salesman-using-dynamic-programming-b76d7552e8dd\n",
    "4. https://www.geeksforgeeks.org/travelling-salesman-problem-using-dynamic-programming/#:~:text=Travelling%20Salesman%20Problem%20(TSP)%3A,returns%20to%20the%20starting%20point.\n",
    "5. https://www.geeksforgeeks.org/traveling-salesman-problem-tsp-implementation/\n",
    "6. https://networkx.org/documentation/stable/reference/generated/networkx.linalg.graphmatrix.adjacency_matrix.html\n",
    "7. https://people.eecs.berkeley.edu/~vazirani/algorithms/chap6.pdf\n",
    "8. https://realpython.com/python-bitwise-operators/"
   ]
  }
 ],
 "metadata": {
  "kernelspec": {
   "display_name": "Python 3.9.12 ('base')",
   "language": "python",
   "name": "python3"
  },
  "language_info": {
   "codemirror_mode": {
    "name": "ipython",
    "version": 3
   },
   "file_extension": ".py",
   "mimetype": "text/x-python",
   "name": "python",
   "nbconvert_exporter": "python",
   "pygments_lexer": "ipython3",
   "version": "3.9.12"
  },
  "vscode": {
   "interpreter": {
    "hash": "40d3a090f54c6569ab1632332b64b2c03c39dcf918b08424e98f38b5ae0af88f"
   }
  }
 },
 "nbformat": 4,
 "nbformat_minor": 5
}
