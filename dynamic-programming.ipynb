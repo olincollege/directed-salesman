{
 "cells": [
  {
   "cell_type": "markdown",
   "id": "084a8014",
   "metadata": {},
   "source": [
    "# Dynamic Programming"
   ]
  },
  {
   "cell_type": "code",
   "execution_count": 1,
   "id": "466ea963",
   "metadata": {},
   "outputs": [],
   "source": [
    "import networkx as nx\n",
    "import random\n",
    "from utils import random_graph, create_adjacency_matrix\n",
    "import math\n",
    "from dynamic_programming import dp"
   ]
  },
  {
   "cell_type": "code",
   "execution_count": 2,
   "id": "ad565a50",
   "metadata": {},
   "outputs": [
    {
     "name": "stderr",
     "output_type": "stream",
     "text": [
      "/Users/danielpark/Documents/directed-salesman/utils.py:219: FutureWarning: adjacency_matrix will return a scipy.sparse array instead of a matrix in Networkx 3.0.\n",
      "  return nx.adjacency_matrix(graph)\n"
     ]
    },
    {
     "name": "stdout",
     "output_type": "stream",
     "text": [
      "[[0.0, 0.4657798927410247, 1.2671396224150215, 0.9308837166092627], [0.6217557023679054, 0.0, 0.8956954679566289, 0.6672887176766987], [0.6811394770962588, 0.6562003578835247, 0.0, 0.41023373421857645], [0.49900288756372513, 0.21789826066671114, 0.7627806921283456, 0.0]]\n"
     ]
    }
   ],
   "source": [
    "# If AttributeError: module 'scipy.sparse' has no attribute 'coo_array'\n",
    "# pip install --upgrade scipy networkx\n",
    "\n",
    "# Number of nodes in graph (User Input)\n",
    "n = 4\n",
    "\n",
    "def create_graph(n, is_directed = True, is_complete = True):\n",
    "    \"\"\"\n",
    "    Creates a directed and/or completed graph with n nodes\n",
    "    \n",
    "    :n: number of nodes in the graph\n",
    "    :is_directed: is graph directed - default: True\n",
    "    :is_complete: is graph complete - default: True\n",
    "    \n",
    "    :returns (default: a directed complet) nx.graph\n",
    "    \"\"\"\n",
    "    if is_directed:\n",
    "        graph = random_graph(n, True)\n",
    "    else:\n",
    "        graph = random_graph(n)\n",
    "    if not is_complete:\n",
    "        for i in range(0, math.floor(n / 2)):\n",
    "            edges_to_remove = random.sample(range(0,n-1), 2)\n",
    "            graph.remove_edge(edges_to_remove[0], edges_to_remove[1])\n",
    "    return graph\n",
    "\n",
    "created_graph = create_graph(n)\n",
    "adj_graph = create_adjacency_matrix(created_graph)\n",
    "new_graph = adj_graph.todense().tolist()\n",
    "print(new_graph)"
   ]
  },
  {
   "cell_type": "code",
   "execution_count": 3,
   "id": "c50e158f",
   "metadata": {},
   "outputs": [],
   "source": [
    "def dp_runner(i, bitmask, distance_matrix):\n",
    "    \"\"\"\n",
    "    Traverses the graph and finds the shortest Hamiltonian path on a graph \n",
    "    using dynamic programming by caching inner paths to find most optimal path\n",
    "\n",
    "    :i: ith node\n",
    "    :bitmask: represents the remaining nodes in the subset (TODO: bits are faster to operate)\n",
    "\n",
    "    :returns: cost of the most efficient path\n",
    "    \"\"\"\n",
    "    cache = [[-1]*(1 << (n)) for _ in range(n)]\n",
    "    \n",
    "    # Base case: \n",
    "    # if only ith bit and 1st bit is set in our bitmask\n",
    "    # we have visited all other nodes already\n",
    "    if bitmask == ((1 << i) | 3):\n",
    "        return distance_matrix[1][i]\n",
    "  \n",
    "    # Memoize visited distances\n",
    "    if cache[i][bitmask] != -1:\n",
    "        return cache[i][bitmask]\n",
    "    \n",
    "    # Result of the sub-problem\n",
    "    result = 10**9\n",
    "  \n",
    "    # Travel to all nodes j and end the path at ith node\n",
    "    for j in range(1, n):\n",
    "        if (bitmask & (1 << j)) != 0 and j != i and j != 1:\n",
    "            result = min(result, dp_runner(j, bitmask & (~(1 << i)), distance_matrix) + distance_matrix[j][i])\n",
    "    \n",
    "    # Store minimum value\n",
    "    cache[i][bitmask] = result\n",
    "    return result"
   ]
  },
  {
   "cell_type": "code",
   "execution_count": 4,
   "id": "654b1e69",
   "metadata": {},
   "outputs": [
    {
     "ename": "TypeError",
     "evalue": "dp_runner() missing 1 required positional argument: 'distance_matrix'",
     "output_type": "error",
     "traceback": [
      "\u001b[0;31m---------------------------------------------------------------------------\u001b[0m",
      "\u001b[0;31mTypeError\u001b[0m                                 Traceback (most recent call last)",
      "\u001b[1;32m/Users/danielpark/Documents/directed-salesman/dynamic-programming.ipynb Cell 5\u001b[0m in \u001b[0;36m<cell line: 7>\u001b[0;34m()\u001b[0m\n\u001b[1;32m      <a href='vscode-notebook-cell:/Users/danielpark/Documents/directed-salesman/dynamic-programming.ipynb#W4sZmlsZQ%3D%3D?line=4'>5</a>\u001b[0m \u001b[39m# Go from node 1 visiting all nodes in between to i\u001b[39;00m\n\u001b[1;32m      <a href='vscode-notebook-cell:/Users/danielpark/Documents/directed-salesman/dynamic-programming.ipynb#W4sZmlsZQ%3D%3D?line=5'>6</a>\u001b[0m \u001b[39m# Return to i when complete\u001b[39;00m\n\u001b[1;32m      <a href='vscode-notebook-cell:/Users/danielpark/Documents/directed-salesman/dynamic-programming.ipynb#W4sZmlsZQ%3D%3D?line=6'>7</a>\u001b[0m \u001b[39mfor\u001b[39;00m i \u001b[39min\u001b[39;00m \u001b[39mrange\u001b[39m(\u001b[39m1\u001b[39m, n):\n\u001b[0;32m----> <a href='vscode-notebook-cell:/Users/danielpark/Documents/directed-salesman/dynamic-programming.ipynb#W4sZmlsZQ%3D%3D?line=7'>8</a>\u001b[0m     cost \u001b[39m=\u001b[39m \u001b[39mmin\u001b[39m(cost, dp_runner(i, (\u001b[39m1\u001b[39;49m \u001b[39m<<\u001b[39;49m n)\u001b[39m-\u001b[39;49m\u001b[39m1\u001b[39;49m, new_graph) \u001b[39m+\u001b[39m new_graph[i][\u001b[39m1\u001b[39m])\n\u001b[1;32m      <a href='vscode-notebook-cell:/Users/danielpark/Documents/directed-salesman/dynamic-programming.ipynb#W4sZmlsZQ%3D%3D?line=8'>9</a>\u001b[0m     solution_path\u001b[39m.\u001b[39mappend(new_graph[\u001b[39m1\u001b[39m][i])\n\u001b[1;32m     <a href='vscode-notebook-cell:/Users/danielpark/Documents/directed-salesman/dynamic-programming.ipynb#W4sZmlsZQ%3D%3D?line=10'>11</a>\u001b[0m \u001b[39mprint\u001b[39m(\u001b[39mf\u001b[39m\u001b[39m\"\u001b[39m\u001b[39mThe solution path is \u001b[39m\u001b[39m{\u001b[39;00msolution_path\u001b[39m}\u001b[39;00m\u001b[39m\"\u001b[39m)\n",
      "\u001b[1;32m/Users/danielpark/Documents/directed-salesman/dynamic-programming.ipynb Cell 5\u001b[0m in \u001b[0;36mdp_runner\u001b[0;34m(i, bitmask, distance_matrix)\u001b[0m\n\u001b[1;32m     <a href='vscode-notebook-cell:/Users/danielpark/Documents/directed-salesman/dynamic-programming.ipynb#W4sZmlsZQ%3D%3D?line=26'>27</a>\u001b[0m \u001b[39mfor\u001b[39;00m j \u001b[39min\u001b[39;00m \u001b[39mrange\u001b[39m(\u001b[39m1\u001b[39m, n):\n\u001b[1;32m     <a href='vscode-notebook-cell:/Users/danielpark/Documents/directed-salesman/dynamic-programming.ipynb#W4sZmlsZQ%3D%3D?line=27'>28</a>\u001b[0m     \u001b[39mif\u001b[39;00m (bitmask \u001b[39m&\u001b[39m (\u001b[39m1\u001b[39m \u001b[39m<<\u001b[39m j)) \u001b[39m!=\u001b[39m \u001b[39m0\u001b[39m \u001b[39mand\u001b[39;00m j \u001b[39m!=\u001b[39m i \u001b[39mand\u001b[39;00m j \u001b[39m!=\u001b[39m \u001b[39m1\u001b[39m:\n\u001b[0;32m---> <a href='vscode-notebook-cell:/Users/danielpark/Documents/directed-salesman/dynamic-programming.ipynb#W4sZmlsZQ%3D%3D?line=28'>29</a>\u001b[0m         result \u001b[39m=\u001b[39m \u001b[39mmin\u001b[39m(result, dp_runner(j, bitmask \u001b[39m&\u001b[39;49m (\u001b[39m~\u001b[39;49m(\u001b[39m1\u001b[39;49m \u001b[39m<<\u001b[39;49m i))) \u001b[39m+\u001b[39m distance_matrix[j][i])\n\u001b[1;32m     <a href='vscode-notebook-cell:/Users/danielpark/Documents/directed-salesman/dynamic-programming.ipynb#W4sZmlsZQ%3D%3D?line=30'>31</a>\u001b[0m \u001b[39m# Store minimum value\u001b[39;00m\n\u001b[1;32m     <a href='vscode-notebook-cell:/Users/danielpark/Documents/directed-salesman/dynamic-programming.ipynb#W4sZmlsZQ%3D%3D?line=31'>32</a>\u001b[0m cache[i][bitmask] \u001b[39m=\u001b[39m result\n",
      "\u001b[0;31mTypeError\u001b[0m: dp_runner() missing 1 required positional argument: 'distance_matrix'"
     ]
    }
   ],
   "source": [
    "# Driver program\n",
    "cost = 10**9\n",
    "solution_path = []\n",
    "\n",
    "# Go from node 1 visiting all nodes in between to i\n",
    "# Return to i when complete\n",
    "for i in range(1, n):\n",
    "    cost = min(cost, dp_runner(i, (1 << n)-1, new_graph) + new_graph[i][1])\n",
    "    solution_path.append(new_graph[1][i])\n",
    "\n",
    "print(f\"The solution path is {solution_path}\")\n",
    "print(f\"The cost of most efficient path is {cost}\")\n",
    "nx.draw_circular(created_graph)"
   ]
  },
  {
   "cell_type": "code",
   "execution_count": null,
   "id": "e41adc4d",
   "metadata": {},
   "outputs": [],
   "source": [
    "# Test dynamic_programming.py"
   ]
  },
  {
   "cell_type": "markdown",
   "id": "eed063ad",
   "metadata": {},
   "source": [
    "## Sources\n",
    "\n",
    "1. https://www.youtube.com/watch?v=Q4zHb-Swzro&t=118s&ab_channel=AbdulBari\n",
    "2. http://www.lsi.upc.edu/~mjserna/docencia/algofib/P07/dynprog.pdf\n",
    "3. https://medium.com/basecs/speeding-up-the-traveling-salesman-using-dynamic-programming-b76d7552e8dd\n",
    "4. https://www.geeksforgeeks.org/travelling-salesman-problem-using-dynamic-programming/#:~:text=Travelling%20Salesman%20Problem%20(TSP)%3A,returns%20to%20the%20starting%20point.\n",
    "5. https://www.geeksforgeeks.org/traveling-salesman-problem-tsp-implementation/\n",
    "6. https://networkx.org/documentation/stable/reference/generated/networkx.linalg.graphmatrix.adjacency_matrix.html\n",
    "7. https://people.eecs.berkeley.edu/~vazirani/algorithms/chap6.pdf\n",
    "8. https://realpython.com/python-bitwise-operators/"
   ]
  }
 ],
 "metadata": {
  "kernelspec": {
   "display_name": "Python 3.9.12 ('base')",
   "language": "python",
   "name": "python3"
  },
  "language_info": {
   "codemirror_mode": {
    "name": "ipython",
    "version": 3
   },
   "file_extension": ".py",
   "mimetype": "text/x-python",
   "name": "python",
   "nbconvert_exporter": "python",
   "pygments_lexer": "ipython3",
   "version": "3.9.12"
  },
  "vscode": {
   "interpreter": {
    "hash": "40d3a090f54c6569ab1632332b64b2c03c39dcf918b08424e98f38b5ae0af88f"
   }
  }
 },
 "nbformat": 4,
 "nbformat_minor": 5
}
