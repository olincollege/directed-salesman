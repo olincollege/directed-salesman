{
 "cells": [
  {
   "cell_type": "markdown",
   "id": "94858a08",
   "metadata": {},
   "source": [
    "# Nearest Neighbor Heuristic\n",
    "\n",
    "**Authors**: Ben Morris, Daniel Park, Jess Brown, Han Vakil"
   ]
  },
  {
   "cell_type": "code",
   "execution_count": 1,
   "id": "6844ae64",
   "metadata": {},
   "outputs": [],
   "source": [
    "import pandas as pd\n",
    "import numpy as np\n",
    "import matplotlib.pyplot as plt\n",
    "import networkx as nx\n",
    "import random\n",
    "from utils import random_graph"
   ]
  },
  {
   "cell_type": "code",
   "execution_count": 22,
   "id": "78e7feb4",
   "metadata": {},
   "outputs": [],
   "source": [
    "\"\"\"\n",
    "Docstring placeholder\n",
    "\"\"\"\n",
    "\n",
    "def tsp_nearest_neighbor(n):\n",
    "    graph = random_graph(n)\n",
    "    solution_path = []\n",
    "    seen = set()\n",
    "    length = 0\n",
    "    start_city = 0\n",
    "    print(f\"Len graph is {len(graph)}\")\n",
    "    print(f\"start city is {start_city}\")\n",
    "    curr_city = start_city\n",
    "    all_cities_visited = False\n",
    "    solution_path.append(start_city)\n",
    "    seen.add(start_city)\n",
    "    print(f\"Solution path is {solution_path}\")\n",
    "    while len(seen) < len(graph):\n",
    "        # Find nearest unvisited city and make that current city - add to solution path \n",
    "        nearest = find_nearest_city(curr_city, graph, seen)\n",
    "        solution_path.append(nearest)\n",
    "        seen.add(nearest)\n",
    "        print(f\"Solution path is {solution_path}\")\n",
    "        length += graph[curr_city][nearest]['weight']\n",
    "        curr_city = nearest\n",
    "    # Return to the start city once you have visited every city  \n",
    "    solution_path.append(start_city)\n",
    "    length += graph[curr_city][start_city]['weight']\n",
    "    # Return path\n",
    "    print(f\"The solution path is {solution_path}\")\n",
    "    return length, solution_path\n",
    "\n",
    "\"\"\"\n",
    "Docstring placeholder\n",
    "\"\"\"\n",
    "\n",
    "def find_nearest_city(curr_city_index, graph, solution_path) -> int:\n",
    "    return min((i for i in range(len(graph)) if i not in solution_path), key=lambda i: graph[curr_city_index][i]['weight'])"
   ]
  },
  {
   "cell_type": "code",
   "execution_count": 25,
   "outputs": [
    {
     "name": "stdout",
     "output_type": "stream",
     "text": [
      "Len graph is 10\n",
      "start city is 0\n",
      "Solution path is [0]\n",
      "Solution path is [0, 2]\n",
      "Solution path is [0, 2, 6]\n",
      "Solution path is [0, 2, 6, 9]\n",
      "Solution path is [0, 2, 6, 9, 4]\n",
      "Solution path is [0, 2, 6, 9, 4, 5]\n",
      "Solution path is [0, 2, 6, 9, 4, 5, 7]\n",
      "Solution path is [0, 2, 6, 9, 4, 5, 7, 3]\n",
      "Solution path is [0, 2, 6, 9, 4, 5, 7, 3, 1]\n",
      "Solution path is [0, 2, 6, 9, 4, 5, 7, 3, 1, 8]\n",
      "The solution path is [0, 2, 6, 9, 4, 5, 7, 3, 1, 8, 0]\n",
      "Shortest path is [0, 2, 6, 9, 4, 5, 7, 3, 1, 8, 0] with length 2.997\n"
     ]
    }
   ],
   "source": [
    "length, path = tsp_nearest_neighbor(10)\n",
    "print(f'Shortest path is {path} with length {length:.3f}')"
   ],
   "metadata": {
    "collapsed": false
   }
  },
  {
   "cell_type": "code",
   "execution_count": null,
   "outputs": [],
   "source": [],
   "metadata": {
    "collapsed": false,
    "pycharm": {
     "is_executing": true
    }
   }
  }
 ],
 "metadata": {
  "kernelspec": {
   "display_name": "Python 3.9.13 64-bit",
   "language": "python",
   "name": "python3"
  },
  "language_info": {
   "codemirror_mode": {
    "name": "ipython",
    "version": 3
   },
   "file_extension": ".py",
   "mimetype": "text/x-python",
   "name": "python",
   "nbconvert_exporter": "python",
   "pygments_lexer": "ipython3",
   "version": "3.9.13"
  },
  "vscode": {
   "interpreter": {
    "hash": "bdf97197cba506cd6c20be116631b761c097939d44a3e97d19068393adf6f7c4"
   }
  }
 },
 "nbformat": 4,
 "nbformat_minor": 5
}
