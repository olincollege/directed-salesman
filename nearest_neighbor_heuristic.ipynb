{
 "cells": [
  {
   "cell_type": "markdown",
   "id": "94858a08",
   "metadata": {},
   "source": [
    "# Nearest Neighbor Heuristic\n",
    "\n",
    "**Authors**: Ben Morris, Daniel Park, Jess Brown, Han Vakil"
   ]
  },
  {
   "cell_type": "code",
   "execution_count": 2,
   "id": "6844ae64",
   "metadata": {},
   "outputs": [],
   "source": [
    "import pandas as pd\n",
    "import numpy as np\n",
    "import matplotlib.pyplot as plt\n",
    "import networkx as nx\n",
    "import random"
   ]
  },
  {
   "cell_type": "code",
   "execution_count": null,
   "id": "78e7feb4",
   "metadata": {},
   "outputs": [],
   "source": [
    "vertices = []\n",
    "graph = []\n",
    "solution_path = []\n",
    "# Select a random city from graph - make that start city / first current city \n",
    "start_city = random.choice(graph)\n",
    "curr_city = start_city\n",
    "all_cities_visited = False\n",
    "\n",
    "\"\"\"\n",
    "Docstring placeholder\n",
    "\"\"\"\n",
    "\n",
    "def tsp_nearest_neighbor():\n",
    "    solution_path.append(start_city)\n",
    "    while all_cities_visited == False:\n",
    "        # Find nearest unvisited city and make that current city - add to solution path \n",
    "        nearest = find_nearest_city(curr_city)\n",
    "        solution_path.append(nearest)\n",
    "        curr_city = nearest\n",
    "        # Are there still unvisited cities? if yes, find nearest city\n",
    "        not_all_visited = False \n",
    "        for city in graph:\n",
    "            if city not in solution_path: \n",
    "                not_all_visited = True\n",
    "        if not_all_visited == False:\n",
    "            all_cities_visited = True\n",
    "    # Return to the start city once you have visited every city  \n",
    "    solution_path = solution_path.append(start_city)\n",
    "    # Return path\n",
    "    return solution_path\n",
    "\n",
    "\"\"\"\n",
    "Docstring placeholder\n",
    "\"\"\"\n",
    "\n",
    "def find_nearest_city(curr_city_index): \n",
    "    min_weight = 1000000\n",
    "    for i in range(0,len(graph)):\n",
    "        if graph[curr_city_index][i][\"weight\"] > 0: \n",
    "            if graph[curr_city_index][i][\"weight\"] < min_weight:\n",
    "                graph[curr_city_index][i][\"weight\"] = min_weight\n",
    "                nearest_city_index = graph[i]\n",
    "    return nearest_city_index"
   ]
  }
 ],
 "metadata": {
  "kernelspec": {
   "display_name": "Python 3.9.13 64-bit",
   "language": "python",
   "name": "python3"
  },
  "language_info": {
   "codemirror_mode": {
    "name": "ipython",
    "version": 3
   },
   "file_extension": ".py",
   "mimetype": "text/x-python",
   "name": "python",
   "nbconvert_exporter": "python",
   "pygments_lexer": "ipython3",
   "version": "3.9.13"
  },
  "vscode": {
   "interpreter": {
    "hash": "bdf97197cba506cd6c20be116631b761c097939d44a3e97d19068393adf6f7c4"
   }
  }
 },
 "nbformat": 4,
 "nbformat_minor": 5
}
