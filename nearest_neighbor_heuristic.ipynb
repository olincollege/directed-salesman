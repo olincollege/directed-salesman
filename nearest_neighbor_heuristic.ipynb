{
 "cells": [
  {
   "cell_type": "markdown",
   "id": "94858a08",
   "metadata": {},
   "source": [
    "# Nearest Neighbor Heuristic\n",
    "\n",
    "**Authors**: Ben Morris, Daniel Park, Jess Brown, Han Vakil"
   ]
  },
  {
   "cell_type": "code",
   "execution_count": 41,
   "id": "6844ae64",
   "metadata": {},
   "outputs": [],
   "source": [
    "import pandas as pd\n",
    "import numpy as np\n",
    "import matplotlib.pyplot as plt\n",
    "import networkx as nx\n",
    "import random\n",
    "from utils import random_graph"
   ]
  },
  {
   "cell_type": "code",
   "execution_count": 73,
   "id": "78e7feb4",
   "metadata": {},
   "outputs": [],
   "source": [
    "\"\"\"\n",
    "Docstring placeholder\n",
    "\"\"\"\n",
    "\n",
    "def tsp_nearest_neighbor(n):\n",
    "    graph = random_graph(n)\n",
    "    solution_path = []\n",
    "    # Select a random city from graph - make that start city / first current city\n",
    "    start_city = random.choice(range(len(graph)))\n",
    "    print(f\"Len graph is {len(graph)}\")\n",
    "    print(f\"start city is {start_city}\")\n",
    "    curr_city = start_city\n",
    "    all_cities_visited = False\n",
    "    solution_path.append(start_city)\n",
    "    print(f\"Solution path is {solution_path}\")\n",
    "    while not all_cities_visited:\n",
    "        # Find nearest unvisited city and make that current city - add to solution path \n",
    "        nearest = find_nearest_city(curr_city, graph, solution_path)\n",
    "        solution_path.append(nearest)\n",
    "        print(f\"Solution path is {solution_path}\")\n",
    "        curr_city = nearest\n",
    "        # Are there still unvisited cities? if yes, find nearest city\n",
    "        tripped = False\n",
    "        for i in range(0,len(graph)):\n",
    "            if i not in solution_path:\n",
    "                tripped = True\n",
    "        if not tripped:\n",
    "            all_cities_visited = True\n",
    "    # Return to the start city once you have visited every city  \n",
    "    solution_path.append(start_city)\n",
    "    # Return path\n",
    "    print(f\"The solution path is {solution_path}\")\n",
    "    return solution_path\n",
    "\n",
    "\"\"\"\n",
    "Docstring placeholder\n",
    "\"\"\"\n",
    "\n",
    "def find_nearest_city(curr_city_index, graph, solution_path) -> int:\n",
    "    min_weight = 1000000\n",
    "    for i in range(0,len(graph)):\n",
    "        if i != curr_city_index and i not in solution_path:\n",
    "            print(f\"Testing city {i} against {curr_city_index} with weight:\")\n",
    "            print(graph[curr_city_index][i][\"weight\"])\n",
    "            if graph[curr_city_index][i][\"weight\"] < min_weight:\n",
    "                min_weight = graph[curr_city_index][i][\"weight\"]\n",
    "                print(f\"Min weight is: {min_weight}\")\n",
    "                nearest_city_index = i\n",
    "    print(f\"Nearest city is {nearest_city_index}\")\n",
    "    return nearest_city_index"
   ]
  },
  {
   "cell_type": "code",
   "execution_count": 78,
   "outputs": [
    {
     "name": "stdout",
     "output_type": "stream",
     "text": [
      "Len graph is 3\n",
      "start city is 2\n",
      "Solution path is [2]\n",
      "Testing city 0 against 2 with weight:\n",
      "0.6322476879598905\n",
      "Min weight is: 0.6322476879598905\n",
      "Testing city 1 against 2 with weight:\n",
      "0.6901338594153839\n",
      "Nearest city is 0\n",
      "Solution path is [2, 0]\n",
      "Testing city 1 against 0 with weight:\n",
      "0.11001488672503974\n",
      "Min weight is: 0.11001488672503974\n",
      "Nearest city is 1\n",
      "Solution path is [2, 0, 1]\n",
      "The solution path is [2, 0, 1, 2]\n"
     ]
    },
    {
     "data": {
      "text/plain": "[2, 0, 1, 2]"
     },
     "execution_count": 78,
     "metadata": {},
     "output_type": "execute_result"
    }
   ],
   "source": [
    "tsp_nearest_neighbor(3)"
   ],
   "metadata": {
    "collapsed": false
   }
  },
  {
   "cell_type": "code",
   "execution_count": null,
   "outputs": [],
   "source": [],
   "metadata": {
    "collapsed": false,
    "pycharm": {
     "is_executing": true
    }
   }
  }
 ],
 "metadata": {
  "kernelspec": {
   "display_name": "Python 3.9.13 64-bit",
   "language": "python",
   "name": "python3"
  },
  "language_info": {
   "codemirror_mode": {
    "name": "ipython",
    "version": 3
   },
   "file_extension": ".py",
   "mimetype": "text/x-python",
   "name": "python",
   "nbconvert_exporter": "python",
   "pygments_lexer": "ipython3",
   "version": "3.9.13"
  },
  "vscode": {
   "interpreter": {
    "hash": "bdf97197cba506cd6c20be116631b761c097939d44a3e97d19068393adf6f7c4"
   }
  }
 },
 "nbformat": 4,
 "nbformat_minor": 5
}
