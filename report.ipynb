{
 "cells": [
  {
   "cell_type": "markdown",
   "id": "727bc1c2",
   "metadata": {},
   "source": [
    "# Travelling Salesman Problem on Completed Directed Graphs\n",
    "\n",
    "**Authors**: Ben Morris, Daniel Park, Jess Brown, Han Vakil"
   ]
  },
  {
   "cell_type": "code",
   "execution_count": 1,
   "id": "3d66f3cb",
   "metadata": {},
   "outputs": [],
   "source": [
    "import pandas as pd\n",
    "import numpy as np\n",
    "import matplotlib.pyplot as plt\n",
    "import networkx as nx\n",
    "import random\n",
    "from utils import random_graph"
   ]
  },
  {
   "cell_type": "code",
   "execution_count": null,
   "id": "f76b4a86",
   "metadata": {},
   "outputs": [],
   "source": []
  }
 ],
 "metadata": {
  "kernelspec": {
   "display_name": "Python 3 (ipykernel)",
   "language": "python",
   "name": "python3"
  },
  "language_info": {
   "codemirror_mode": {
    "name": "ipython",
    "version": 3
   },
   "file_extension": ".py",
   "mimetype": "text/x-python",
   "name": "python",
   "nbconvert_exporter": "python",
   "pygments_lexer": "ipython3",
   "version": "3.9.12"
  }
 },
 "nbformat": 4,
 "nbformat_minor": 5
}
