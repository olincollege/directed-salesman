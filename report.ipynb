{
 "cells": [
  {
   "cell_type": "markdown",
   "id": "94858a08",
   "metadata": {},
   "source": [
    "# The Travelling Salesman Problem\n",
    "\n",
    "**Authors**: Ben Morris, Daniel Park, Jess Brown, Han Vakil"
   ]
  },
  {
   "cell_type": "code",
   "execution_count": 2,
   "id": "6844ae64",
   "metadata": {},
   "outputs": [],
   "source": [
    "import pandas as pd\n",
    "import numpy as np\n",
    "import matplotlib.pyplot as plt\n",
    "import networkx as nx\n",
    "import random"
   ]
  },
  {
   "cell_type": "code",
   "execution_count": null,
   "id": "78e7feb4",
   "metadata": {},
   "outputs": [],
   "source": []
  }
 ],
 "metadata": {
  "kernelspec": {
   "display_name": "Python 3.9.13 64-bit",
   "language": "python",
   "name": "python3"
  },
  "language_info": {
   "codemirror_mode": {
    "name": "ipython",
    "version": 3
   },
   "file_extension": ".py",
   "mimetype": "text/x-python",
   "name": "python",
   "nbconvert_exporter": "python",
   "pygments_lexer": "ipython3",
   "version": "3.9.13"
  },
  "vscode": {
   "interpreter": {
    "hash": "bdf97197cba506cd6c20be116631b761c097939d44a3e97d19068393adf6f7c4"
   }
  }
 },
 "nbformat": 4,
 "nbformat_minor": 5
}
